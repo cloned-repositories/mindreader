{
  "nbformat": 4,
  "nbformat_minor": 0,
  "metadata": {
    "colab": {
      "name": "mindreader_app.ipynb",
      "provenance": [],
      "authorship_tag": "ABX9TyPumKFB+P9kcuvu5Fy3Ufna",
      "include_colab_link": true
    },
    "kernelspec": {
      "name": "python3",
      "display_name": "Python 3"
    },
    "language_info": {
      "name": "python"
    }
  },
  "cells": [
    {
      "cell_type": "markdown",
      "metadata": {
        "id": "view-in-github",
        "colab_type": "text"
      },
      "source": [
        "<a href=\"https://colab.research.google.com/github/michael-borck/mindreader/blob/main/mindreader_app.ipynb\" target=\"_parent\"><img src=\"https://colab.research.google.com/assets/colab-badge.svg\" alt=\"Open In Colab\"/></a>"
      ]
    },
    {
      "cell_type": "markdown",
      "source": [
        "# Mindreader\n",
        "\n",
        "**Mindreader** is a binary game of rock, paper, scissors against a *bot*.  You choose `1` or or `0`. The *bot* tries to gues your number using machine learning. If it is right the *bot* get a point, otherwise you get a point. The first to **10** wins! "
      ],
      "metadata": {
        "id": "QPNbeg_2f-Vl"
      }
    },
    {
      "cell_type": "code",
      "execution_count": null,
      "metadata": {
        "id": "mw28Ss52f4bi",
        "cellView": "form"
      },
      "outputs": [],
      "source": [
        "#@title\n",
        "# The following is so this can run in Binder and Google Colab\n",
        "from IPython.display import clear_output\n",
        "from os.path import exists\n",
        "if not exists('mindreader.ipynb'):\n",
        "  !wget https://raw.githubusercontent.com/michael-borck/mindreader/main/mindreader.ipynb\n",
        "clear_output()\n",
        "%run mindreader.ipynb"
      ]
    }
  ]
}