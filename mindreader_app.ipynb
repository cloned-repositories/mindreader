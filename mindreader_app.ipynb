{
  "nbformat": 4,
  "nbformat_minor": 0,
  "metadata": {
    "colab": {
      "name": "mindreader_app.ipynb",
      "provenance": [],
      "authorship_tag": "ABX9TyM7H0eYiGQXnPBJ7bIiFKX3",
      "include_colab_link": true
    },
    "kernelspec": {
      "name": "python3",
      "display_name": "Python 3"
    },
    "language_info": {
      "name": "python"
    }
  },
  "cells": [
    {
      "cell_type": "markdown",
      "metadata": {
        "id": "view-in-github",
        "colab_type": "text"
      },
      "source": [
        "<a href=\"https://colab.research.google.com/github/michael-borck/mindreader/blob/main/mindreader_app.ipynb\" target=\"_parent\"><img src=\"https://colab.research.google.com/assets/colab-badge.svg\" alt=\"Open In Colab\"/></a>"
      ]
    },
    {
      "cell_type": "markdown",
      "source": [
        "# Mindreader\n",
        "\n",
        "**Mindreader** is a binary game of rock, paper, scissors against a *bot*.  You choose `1` or or `0`. The *bot* tries to gues your number using machine learning. If it is right the *bot* get a point, otherwise you get a point. The first to **10** wins! "
      ],
      "metadata": {
        "id": "QPNbeg_2f-Vl"
      }
    },
    {
      "cell_type": "code",
      "execution_count": null,
      "metadata": {
        "cellView": "form",
        "id": "mw28Ss52f4bi"
      },
      "outputs": [],
      "source": [
        "#@title\n",
        "from google.colab import output\n",
        "from os.path import exists\n",
        "if not exists('mindreader.ipynb'):\n",
        "  !wget https://raw.githubusercontent.com/michael-borck/mindreader/main/mindreader.ipynb\n",
        "output.clear()\n",
        "%run mindreader.ipynb"
      ]
    }
  ]
}