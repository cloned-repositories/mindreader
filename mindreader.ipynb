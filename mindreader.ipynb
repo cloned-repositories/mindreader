{
  "nbformat": 4,
  "nbformat_minor": 0,
  "metadata": {
    "colab": {
      "name": "mindreader.ipynb",
      "provenance": [],
      "authorship_tag": "ABX9TyP/gfiAJWy3YQNz/WUJl6p/",
      "include_colab_link": true
    },
    "kernelspec": {
      "name": "python3",
      "display_name": "Python 3"
    },
    "language_info": {
      "name": "python"
    }
  },
  "cells": [
    {
      "cell_type": "markdown",
      "metadata": {
        "id": "view-in-github",
        "colab_type": "text"
      },
      "source": [
        "<a href=\"https://colab.research.google.com/github/michael-borck/mindreader/blob/main/mindreader.ipynb\" target=\"_parent\"><img src=\"https://colab.research.google.com/assets/colab-badge.svg\" alt=\"Open In Colab\"/></a>"
      ]
    },
    {
      "cell_type": "markdown",
      "source": [
        "# Mind Reader \n",
        "\n",
        "Game from the following:\n",
        "\n",
        "[![Mind Reader](https://i.imgur.com/OjbtxYr.png)](\"https://www.youtube.com/embed/-ZbrxnD-cJY\")\n"
      ],
      "metadata": {
        "id": "0bKseI0k14KJ"
      }
    },
    {
      "cell_type": "code",
      "execution_count": null,
      "metadata": {
        "id": "II4450EPeu6y",
        "cellView": "form"
      },
      "outputs": [],
      "source": [
        "#@title Play the game\n",
        "import ipywidgets as ipw\n",
        "import numpy as np\n",
        "import random\n",
        "\n",
        "user_history = [0]\n",
        "def update_game(user_choice):\n",
        "  probability = sum(user_history) / len(user_history)\n",
        "  computer_choice = np.random.binomial(1,probability,1)[0]\n",
        "  user_history.append(user_choice)\n",
        "  # Uncomment next line if you want an easier game\n",
        "  # computer_choice = random.randint(0,1)\n",
        "  \n",
        "  # did computer guess right, updat scores\n",
        "  if computer_choice == user_choice:\n",
        "    bot_score.value += 1\n",
        "  else:\n",
        "    user_score.value += 1\n",
        "\n",
        "  # has the bot won? \n",
        "  if user_score.value == 10 or bot_score.value == 10:\n",
        "    if bot_score.value == 10:\n",
        "      final_msg.value = '<h1>You Loose!</h1>'\n",
        "    \n",
        "    # make the final message visible\n",
        "    final_msg.layout.visibility = \"visible\"\n",
        "\n",
        "    # game is over so disable the buttons\n",
        "    b_zero.layout.visibility = 'hidden'\n",
        "    b_one.layout.visibility = 'hidden'\n",
        "  return\n",
        "  \n",
        "\n",
        "# create the butotns\n",
        "b_zero = ipw.Button(description=\"0\")\n",
        "b_zero.layout.visibility = 'visible'\n",
        "b_one = ipw.Button(description=\"1\")\n",
        "b_one.layout.visibility = 'visible'\n",
        "\n",
        "# layout the widgets\n",
        "btns = ipw.HBox([b_zero, b_one])\n",
        "\n",
        "def click_zero(b):\n",
        "  update_game(0)\n",
        "b_zero.on_click(click_zero)\n",
        "\n",
        "def click_one(b):\n",
        "  update_game(1)\n",
        "b_one.on_click(click_one)\n",
        "\n",
        "\n",
        "# create the progress basr\n",
        "user_score = ipw.IntProgress(value=0, min=0, max=10, description = 'You')\n",
        "bot_score = ipw.IntProgress(value=0, min=0, max=10, description = 'Bot')\n",
        "\n",
        "# layout the widgets\n",
        "scoreboard = ipw.VBox([user_score, bot_score])\n",
        "\n",
        "# Create game over widget\n",
        "final_msg = ipw.HTML(\"<h1>You Win!</h1>\")\n",
        "final_msg.layout.visibility = \"hidden\"\n",
        "\n",
        "# layout the game\n",
        "score_result = ipw.HBox([scoreboard, final_msg])\n",
        "game_board = ipw.VBox([score_result, btns])\n",
        "\n",
        "# display the gameboard\n",
        "display(game_board)"
      ]
    },
    {
      "cell_type": "code",
      "source": [
        ""
      ],
      "metadata": {
        "id": "0Lxs2IWJewak"
      },
      "execution_count": null,
      "outputs": []
    }
  ]
}